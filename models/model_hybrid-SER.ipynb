{
 "cells": [
  {
   "attachments": {},
   "cell_type": "markdown",
   "metadata": {},
   "source": [
    "### Modelagem SER\n",
    "\n",
    "1. Sinal de saída da híbrida / Sinal de entrada do SER \n",
    "$$\n",
    "\\begin{aligned}\n",
    "E_{1}(t)    &= I(t) + jQ(t) + A \\\\\n",
    "E_{2}(t)    &= I(t) + jQ(t) + Ae^{j\\frac{\\pi}{2}}\n",
    "\\end{aligned}\n",
    "$$\n",
    "\n",
    "2. Sinal de saída do SER \n",
    "$$\n",
    "\\begin{aligned}\n",
    "R_{1}(t)    &= A^{2} + I(t)^{2} + Q(t)^{2} + 2AI(t) \\\\\n",
    "R_{2}(t)    &= A^{2} + I(t)^{2} + Q(t)^{2} + 2AQ(t)\n",
    "\\end{aligned}\n",
    "$$\n",
    "\n",
    "3. Modelo ideal (ideal square-law detectors)\n",
    "\n",
    "\\begin{aligned}\n",
    "R_{1}(t)    &= \\left((I(t) + A + jQ(t)    \\right) \\left(I(t) + A - jQ(t)\\right) \\\\\n",
    "            &= (I(t) + A)^{2} - jQ(t)(I(t) + A) + jQ(t)(I(t) + A) + Q(t)^{2}\\\\\n",
    "            &= A^{2} + I(t)^{2} + Q(t)^{2} + 2AI(t) \\\\\n",
    "\\end{aligned}\n",
    "$$\n",
    "\n",
    "\\begin{aligned}\n",
    "R_{2}(t)    &= \\left((I(t) + j(Q(t) + A)\\right) \\left((I(t) - j(Q(t) + A)\\right) \\\\\n",
    "            &= I(t)^{2} -jI(Q(t) + A) + jI(Q(t) + A) + Q^{2} + 2AQ(t) + A^{2} \\\\\n",
    "            &= A^{2} + I(t)^{2} + Q(t)^{2} + 2AQ(t)\n",
    "\\end{aligned}\n",
    "$$\n",
    "\n",
    "* $2AI(t) \\ e \\ 2AQ(t)$: termos de detecção úteis\n",
    "* $I(t)^{2} + Q(t)^{2}$: signal-signal beat interference (SSBI)"
   ]
  },
  {
   "cell_type": "code",
   "execution_count": 20,
   "metadata": {},
   "outputs": [],
   "source": [
    "# Import\n",
    "\n",
    "import sympy as sp\n",
    "from IPython.display import Math, display\n",
    "from sympy import Matrix, zeros\n",
    "\n",
    "π = sp.pi\n",
    "j = sp.I\n",
    "t = sp.symbols('t', real=True)\n",
    "\n",
    "# função para print de expressões simbólicas\n",
    "def symdisp(expr, var, unit=' '):\n",
    "    '''\n",
    "    Latex style display of sympy expressions\n",
    "    \n",
    "    :param expr: expression in latex [string]\n",
    "    :param var: sympy variable, function, expression.\n",
    "    :param unit: string indicating unit of var [string]\n",
    "    '''\n",
    "    display(Math(expr+sp.latex(var)+'\\;'+unit))\n",
    "    \n",
    "    \n",
    "def photodiode(Ei):\n",
    "    return sp.Abs(Ei)**2\n",
    "\n",
    "def bpd(E_pos, E_neg):\n",
    "    return photodiode(E_pos) - photodiode(E_neg)"
   ]
  },
  {
   "cell_type": "code",
   "execution_count": 21,
   "metadata": {},
   "outputs": [
    {
     "name": "stdout",
     "output_type": "stream",
     "text": [
      "Sinais de entrada da híbrida óptica:\n"
     ]
    },
    {
     "data": {
      "text/latex": [
       "$\\displaystyle E_i = \\left[\\begin{matrix}\\sqrt{2} \\left(I{\\left(t \\right)} + i Q{\\left(t \\right)}\\right)\\\\0\\\\0\\\\\\sqrt{2} A{\\left(t \\right)}\\end{matrix}\\right]\\; $"
      ],
      "text/plain": [
       "<IPython.core.display.Math object>"
      ]
     },
     "metadata": {},
     "output_type": "display_data"
    },
    {
     "name": "stdout",
     "output_type": "stream",
     "text": [
      "Função de transferência da híbrida óptica:\n"
     ]
    },
    {
     "data": {
      "text/latex": [
       "$\\displaystyle T = \\left[\\begin{matrix}\\frac{\\sqrt{2}}{2} & \\frac{\\sqrt{2} i}{2} & \\frac{\\sqrt{2} i}{2} & - \\frac{\\sqrt{2}}{2}\\\\\\frac{\\sqrt{2} i}{2} & - \\frac{\\sqrt{2}}{2} & \\frac{\\sqrt{2}}{2} & \\frac{\\sqrt{2} i}{2}\\\\\\frac{\\sqrt{2} i}{2} & \\frac{\\sqrt{2}}{2} & - \\frac{\\sqrt{2} i}{2} & - \\frac{\\sqrt{2}}{2}\\\\- \\frac{\\sqrt{2}}{2} & \\frac{\\sqrt{2} i}{2} & - \\frac{\\sqrt{2}}{2} & \\frac{\\sqrt{2} i}{2}\\end{matrix}\\right]\\; $"
      ],
      "text/plain": [
       "<IPython.core.display.Math object>"
      ]
     },
     "metadata": {},
     "output_type": "display_data"
    },
    {
     "name": "stdout",
     "output_type": "stream",
     "text": [
      "Modelagem:\n"
     ]
    },
    {
     "data": {
      "text/latex": [
       "$\\displaystyle T1 * E_i = \\left[\\begin{matrix}\\sqrt{2} \\left(I{\\left(t \\right)} + i Q{\\left(t \\right)}\\right)\\\\\\sqrt{2} i \\left(I{\\left(t \\right)} + i Q{\\left(t \\right)}\\right)\\\\\\sqrt{2} i A{\\left(t \\right)}\\\\\\sqrt{2} A{\\left(t \\right)}\\end{matrix}\\right]\\; $"
      ],
      "text/plain": [
       "<IPython.core.display.Math object>"
      ]
     },
     "metadata": {},
     "output_type": "display_data"
    },
    {
     "data": {
      "text/latex": [
       "$\\displaystyle T2 * T1 * E_i = \\left[\\begin{matrix}\\sqrt{2} \\left(I{\\left(t \\right)} + i Q{\\left(t \\right)}\\right)\\\\\\sqrt{2} i A{\\left(t \\right)}\\\\\\sqrt{2} i \\left(I{\\left(t \\right)} + i Q{\\left(t \\right)}\\right)\\\\\\sqrt{2} i A{\\left(t \\right)}\\end{matrix}\\right]\\; $"
      ],
      "text/plain": [
       "<IPython.core.display.Math object>"
      ]
     },
     "metadata": {},
     "output_type": "display_data"
    },
    {
     "data": {
      "text/latex": [
       "$\\displaystyle T3 * T2 * T1 * E_i = \\left[\\begin{matrix}- A{\\left(t \\right)} + I{\\left(t \\right)} + i Q{\\left(t \\right)}\\\\i \\left(I{\\left(t \\right)} + i Q{\\left(t \\right)}\\right) + i A{\\left(t \\right)}\\\\i \\left(I{\\left(t \\right)} + i Q{\\left(t \\right)}\\right) - A{\\left(t \\right)}\\\\i A{\\left(t \\right)} - I{\\left(t \\right)} - i Q{\\left(t \\right)}\\end{matrix}\\right]\\; $"
      ],
      "text/plain": [
       "<IPython.core.display.Math object>"
      ]
     },
     "metadata": {},
     "output_type": "display_data"
    },
    {
     "name": "stdout",
     "output_type": "stream",
     "text": [
      "Sinais de saída da híbrida óptica / Sinais de entrada dos fotodiodos:\n"
     ]
    },
    {
     "data": {
      "text/latex": [
       "$\\displaystyle E_o = \\left[\\begin{matrix}- A{\\left(t \\right)} + I{\\left(t \\right)} + i Q{\\left(t \\right)}\\\\i \\left(I{\\left(t \\right)} + i Q{\\left(t \\right)}\\right) + i A{\\left(t \\right)}\\\\i \\left(I{\\left(t \\right)} + i Q{\\left(t \\right)}\\right) - A{\\left(t \\right)}\\\\i A{\\left(t \\right)} - I{\\left(t \\right)} - i Q{\\left(t \\right)}\\end{matrix}\\right]\\; $"
      ],
      "text/plain": [
       "<IPython.core.display.Math object>"
      ]
     },
     "metadata": {},
     "output_type": "display_data"
    },
    {
     "name": "stdout",
     "output_type": "stream",
     "text": [
      "Saída com topologia balanceada:\n"
     ]
    },
    {
     "data": {
      "text/latex": [
       "$\\displaystyle BPD | s_I = i_1 - i_2 = 4 A{\\left(t \\right)} I{\\left(t \\right)}\\; $"
      ],
      "text/plain": [
       "<IPython.core.display.Math object>"
      ]
     },
     "metadata": {},
     "output_type": "display_data"
    },
    {
     "data": {
      "text/latex": [
       "$\\displaystyle BPD | s_Q = i_4 - i_3 = 4 A{\\left(t \\right)} Q{\\left(t \\right)}\\; $"
      ],
      "text/plain": [
       "<IPython.core.display.Math object>"
      ]
     },
     "metadata": {},
     "output_type": "display_data"
    },
    {
     "name": "stdout",
     "output_type": "stream",
     "text": [
      "Saída com topologia single-ended:\n"
     ]
    },
    {
     "data": {
      "text/latex": [
       "$\\displaystyle SER | s_I = i_1 = A^{2}{\\left(t \\right)} + 2 A{\\left(t \\right)} I{\\left(t \\right)} + I^{2}{\\left(t \\right)} + Q^{2}{\\left(t \\right)}\\; $"
      ],
      "text/plain": [
       "<IPython.core.display.Math object>"
      ]
     },
     "metadata": {},
     "output_type": "display_data"
    },
    {
     "data": {
      "text/latex": [
       "$\\displaystyle SER | s_Q = i_3 = A^{2}{\\left(t \\right)} + 2 A{\\left(t \\right)} Q{\\left(t \\right)} + I^{2}{\\left(t \\right)} + Q^{2}{\\left(t \\right)}\\; $"
      ],
      "text/plain": [
       "<IPython.core.display.Math object>"
      ]
     },
     "metadata": {},
     "output_type": "display_data"
    }
   ],
   "source": [
    "# Sinal referência (artigo)\n",
    "E_s  = sp.sqrt(2) * ( sp.Function('I', real=True)(t) + j * sp.Function('Q', real=True)(t))\n",
    "E_lo = sp.sqrt(2) * ( sp.Function('A', real=True)(t) )\n",
    "\n",
    "# Topologia do Artigo -> 2 splitter, 1 defasador, 2 acopladores de 90°\n",
    "Ei = Matrix([[ E_s ], \n",
    "             [ 0 ], \n",
    "             [ 0 ], \n",
    "             [ E_lo ]])\n",
    "\n",
    "T1 = Matrix([[1, j, 0, 0],\n",
    "             [j, 1, 0, 0],\n",
    "             [0, 0, 1, j],\n",
    "             [0, 0, j, 1]]) * (1/sp.sqrt(2)) * (sp.sqrt(2)) \n",
    "\n",
    "T2 = Matrix([[1, 0, 0, 0],\n",
    "             [0, 0, 1, 0],\n",
    "             [0, 1, 0, 0],\n",
    "             [0, 0, 0, j]])\n",
    "\n",
    "T3 = Matrix([[1, j, 0, 0],\n",
    "             [j, 1, 0, 0],\n",
    "             [0, 0, 1, j],\n",
    "             [0, 0, j, 1]]) * (1/sp.sqrt(2))\n",
    "\n",
    "print('Sinais de entrada da híbrida óptica:')\n",
    "symdisp('E_i = ', Ei)\n",
    "\n",
    "print('Função de transferência da híbrida óptica:')\n",
    "symdisp('T = ', T3 * T2 * T1)\n",
    "\n",
    "print('Modelagem:')\n",
    "symdisp('T1 * E_i = ', T1 * Ei)\n",
    "symdisp('T2 * T1 * E_i = ', T2 * T1 * Ei )\n",
    "symdisp('T3 * T2 * T1 * E_i = ', T3 * T2 * T1 * Ei )\n",
    "\n",
    "print('Sinais de saída da híbrida óptica / Sinais de entrada dos fotodiodos:')\n",
    "Eo = T3 * T2 * T1 * Ei\n",
    "symdisp('E_o = ', Eo)\n",
    "\n",
    "#BPD\n",
    "print('Saída com topologia balanceada:')\n",
    "sI = bpd(Eo[1], Eo[0])\n",
    "sQ = bpd(Eo[2], Eo[3])\n",
    "\n",
    "symdisp('BPD | s_I = i_1 - i_2 = ', sp.re(sI).simplify().expand() )\n",
    "symdisp('BPD | s_Q = i_4 - i_3 = ', sp.re(sQ).simplify().expand() )\n",
    "\n",
    "#SER\n",
    "print('Saída com topologia single-ended:')\n",
    "sI = bpd(Eo[1], 0)\n",
    "sQ = bpd(Eo[2], 0)\n",
    "\n",
    "symdisp('SER | s_I = i_1 = ', sp.re(sI).simplify().expand() )\n",
    "symdisp('SER | s_Q = i_3 = ', sp.re(sQ).simplify().expand() )"
   ]
  },
  {
   "cell_type": "code",
   "execution_count": 22,
   "metadata": {},
   "outputs": [
    {
     "name": "stdout",
     "output_type": "stream",
     "text": [
      "Sinais de entrada da híbrida óptica:\n"
     ]
    },
    {
     "data": {
      "text/latex": [
       "$\\displaystyle E_i = \\left[\\begin{matrix}A{\\left(t \\right)} e^{i \\left(t ω_{s} + ϕ_{s}\\right)}\\\\0\\\\0\\\\A_{LO}{\\left(t \\right)} e^{i \\left(t ω_{LO} + ϕ_{LO}\\right)}\\end{matrix}\\right]\\; $"
      ],
      "text/plain": [
       "<IPython.core.display.Math object>"
      ]
     },
     "metadata": {},
     "output_type": "display_data"
    },
    {
     "name": "stdout",
     "output_type": "stream",
     "text": [
      "Função de transferência da híbrida óptica:\n"
     ]
    },
    {
     "data": {
      "text/latex": [
       "$\\displaystyle T = \\left[\\begin{matrix}\\frac{\\sqrt{2}}{2} & \\frac{\\sqrt{2} i}{2} & \\frac{\\sqrt{2} i}{2} & - \\frac{\\sqrt{2}}{2}\\\\\\frac{\\sqrt{2} i}{2} & - \\frac{\\sqrt{2}}{2} & \\frac{\\sqrt{2}}{2} & \\frac{\\sqrt{2} i}{2}\\\\\\frac{\\sqrt{2} i}{2} & \\frac{\\sqrt{2}}{2} & - \\frac{\\sqrt{2} i}{2} & - \\frac{\\sqrt{2}}{2}\\\\- \\frac{\\sqrt{2}}{2} & \\frac{\\sqrt{2} i}{2} & - \\frac{\\sqrt{2}}{2} & \\frac{\\sqrt{2} i}{2}\\end{matrix}\\right]\\; $"
      ],
      "text/plain": [
       "<IPython.core.display.Math object>"
      ]
     },
     "metadata": {},
     "output_type": "display_data"
    },
    {
     "name": "stdout",
     "output_type": "stream",
     "text": [
      "Modelagem:\n"
     ]
    },
    {
     "data": {
      "text/latex": [
       "$\\displaystyle T1 * E_i = \\left[\\begin{matrix}A{\\left(t \\right)} e^{i \\left(t ω_{s} + ϕ_{s}\\right)}\\\\i A{\\left(t \\right)} e^{i \\left(t ω_{s} + ϕ_{s}\\right)}\\\\i A_{LO}{\\left(t \\right)} e^{i \\left(t ω_{LO} + ϕ_{LO}\\right)}\\\\A_{LO}{\\left(t \\right)} e^{i \\left(t ω_{LO} + ϕ_{LO}\\right)}\\end{matrix}\\right]\\; $"
      ],
      "text/plain": [
       "<IPython.core.display.Math object>"
      ]
     },
     "metadata": {},
     "output_type": "display_data"
    },
    {
     "data": {
      "text/latex": [
       "$\\displaystyle T2 * T1 * E_i = \\left[\\begin{matrix}A{\\left(t \\right)} e^{i \\left(t ω_{s} + ϕ_{s}\\right)}\\\\i A_{LO}{\\left(t \\right)} e^{i \\left(t ω_{LO} + ϕ_{LO}\\right)}\\\\i A{\\left(t \\right)} e^{i \\left(t ω_{s} + ϕ_{s}\\right)}\\\\i A_{LO}{\\left(t \\right)} e^{i \\left(t ω_{LO} + ϕ_{LO}\\right)}\\end{matrix}\\right]\\; $"
      ],
      "text/plain": [
       "<IPython.core.display.Math object>"
      ]
     },
     "metadata": {},
     "output_type": "display_data"
    },
    {
     "data": {
      "text/latex": [
       "$\\displaystyle T3 * T2 * T1 * E_i = \\left[\\begin{matrix}\\frac{\\sqrt{2} A{\\left(t \\right)} e^{i \\left(t ω_{s} + ϕ_{s}\\right)}}{2} - \\frac{\\sqrt{2} A_{LO}{\\left(t \\right)} e^{i \\left(t ω_{LO} + ϕ_{LO}\\right)}}{2}\\\\\\frac{\\sqrt{2} i A{\\left(t \\right)} e^{i \\left(t ω_{s} + ϕ_{s}\\right)}}{2} + \\frac{\\sqrt{2} i A_{LO}{\\left(t \\right)} e^{i \\left(t ω_{LO} + ϕ_{LO}\\right)}}{2}\\\\\\frac{\\sqrt{2} i A{\\left(t \\right)} e^{i \\left(t ω_{s} + ϕ_{s}\\right)}}{2} - \\frac{\\sqrt{2} A_{LO}{\\left(t \\right)} e^{i \\left(t ω_{LO} + ϕ_{LO}\\right)}}{2}\\\\- \\frac{\\sqrt{2} A{\\left(t \\right)} e^{i \\left(t ω_{s} + ϕ_{s}\\right)}}{2} + \\frac{\\sqrt{2} i A_{LO}{\\left(t \\right)} e^{i \\left(t ω_{LO} + ϕ_{LO}\\right)}}{2}\\end{matrix}\\right]\\; $"
      ],
      "text/plain": [
       "<IPython.core.display.Math object>"
      ]
     },
     "metadata": {},
     "output_type": "display_data"
    },
    {
     "name": "stdout",
     "output_type": "stream",
     "text": [
      "Sinais de saída da híbrida óptica / Sinais de entrada dos fotodiodos:\n"
     ]
    },
    {
     "data": {
      "text/latex": [
       "$\\displaystyle E_o = \\left[\\begin{matrix}\\frac{\\sqrt{2} A{\\left(t \\right)} e^{i \\left(t ω_{s} + ϕ_{s}\\right)}}{2} - \\frac{\\sqrt{2} A_{LO}{\\left(t \\right)} e^{i \\left(t ω_{LO} + ϕ_{LO}\\right)}}{2}\\\\\\frac{\\sqrt{2} i A{\\left(t \\right)} e^{i \\left(t ω_{s} + ϕ_{s}\\right)}}{2} + \\frac{\\sqrt{2} i A_{LO}{\\left(t \\right)} e^{i \\left(t ω_{LO} + ϕ_{LO}\\right)}}{2}\\\\\\frac{\\sqrt{2} i A{\\left(t \\right)} e^{i \\left(t ω_{s} + ϕ_{s}\\right)}}{2} - \\frac{\\sqrt{2} A_{LO}{\\left(t \\right)} e^{i \\left(t ω_{LO} + ϕ_{LO}\\right)}}{2}\\\\- \\frac{\\sqrt{2} A{\\left(t \\right)} e^{i \\left(t ω_{s} + ϕ_{s}\\right)}}{2} + \\frac{\\sqrt{2} i A_{LO}{\\left(t \\right)} e^{i \\left(t ω_{LO} + ϕ_{LO}\\right)}}{2}\\end{matrix}\\right]\\; $"
      ],
      "text/plain": [
       "<IPython.core.display.Math object>"
      ]
     },
     "metadata": {},
     "output_type": "display_data"
    },
    {
     "name": "stdout",
     "output_type": "stream",
     "text": [
      "Saída com topologia balanceada:\n"
     ]
    },
    {
     "data": {
      "text/latex": [
       "$\\displaystyle BPD | s_I = i_1 - i_2 = 2 A{\\left(t \\right)} A_{LO}{\\left(t \\right)} \\cos{\\left(t ω_{s} - t ω_{LO} + ϕ_{s} - ϕ_{LO} \\right)}\\; $"
      ],
      "text/plain": [
       "<IPython.core.display.Math object>"
      ]
     },
     "metadata": {},
     "output_type": "display_data"
    },
    {
     "data": {
      "text/latex": [
       "$\\displaystyle BPD | s_Q = i_4 - i_3 = 2 A{\\left(t \\right)} A_{LO}{\\left(t \\right)} \\sin{\\left(t ω_{s} - t ω_{LO} + ϕ_{s} - ϕ_{LO} \\right)}\\; $"
      ],
      "text/plain": [
       "<IPython.core.display.Math object>"
      ]
     },
     "metadata": {},
     "output_type": "display_data"
    },
    {
     "name": "stdout",
     "output_type": "stream",
     "text": [
      "Saída com topologia single-ended:\n"
     ]
    },
    {
     "data": {
      "text/latex": [
       "$\\displaystyle SER | s_I = i_1 = \\frac{A^{2}{\\left(t \\right)}}{2} + A{\\left(t \\right)} A_{LO}{\\left(t \\right)} \\cos{\\left(t ω_{s} - t ω_{LO} + ϕ_{s} - ϕ_{LO} \\right)} + \\frac{A_{LO}^{2}{\\left(t \\right)}}{2}\\; $"
      ],
      "text/plain": [
       "<IPython.core.display.Math object>"
      ]
     },
     "metadata": {},
     "output_type": "display_data"
    },
    {
     "data": {
      "text/latex": [
       "$\\displaystyle SER | s_Q = i_3 = \\frac{A^{2}{\\left(t \\right)}}{2} + A{\\left(t \\right)} A_{LO}{\\left(t \\right)} \\sin{\\left(t ω_{s} - t ω_{LO} + ϕ_{s} - ϕ_{LO} \\right)} + \\frac{A_{LO}^{2}{\\left(t \\right)}}{2}\\; $"
      ],
      "text/plain": [
       "<IPython.core.display.Math object>"
      ]
     },
     "metadata": {},
     "output_type": "display_data"
    }
   ],
   "source": [
    "# Sinal referência (campos)\n",
    "t, ω_s, ω_lo, ϕ_s, ϕ_lo, Δω, Δϕ = sp.symbols('t, ω_s, ω_{LO}, ϕ_s, ϕ_{LO}, Δω, Δϕ', real=True)\n",
    "P_s, P_lo, R = sp.symbols('P_s, P_{LO}, R_d', real=True, positive=True)\n",
    "\n",
    "A_s = sp.Function('A', real=True)(t)\n",
    "A_lo = sp.Function('A_{LO}', real=True)(t)\n",
    "ϕ = sp.Function('ϕ', real=True)(t)\n",
    "\n",
    "E_s  = A_s*sp.exp(j*(ω_s*t + ϕ_s))\n",
    "E_lo = A_lo*sp.exp(j*(ω_lo*t + ϕ_lo))\n",
    "\n",
    "# Topologia do Artigo -> 2 splitter, 1 defasador, 2 acopladores de 90°\n",
    "Ei = Matrix([[ E_s ], \n",
    "             [ 0 ], \n",
    "             [ 0 ], \n",
    "             [ E_lo ]])\n",
    "\n",
    "T1 = Matrix([[1, j, 0, 0],\n",
    "             [j, 1, 0, 0],\n",
    "             [0, 0, 1, j],\n",
    "             [0, 0, j, 1]]) * (1/sp.sqrt(2)) * (sp.sqrt(2)) \n",
    "\n",
    "T2 = Matrix([[1, 0, 0, 0],\n",
    "             [0, 0, 1, 0],\n",
    "             [0, 1, 0, 0],\n",
    "             [0, 0, 0, j]])\n",
    "\n",
    "T3 = Matrix([[1, j, 0, 0],\n",
    "             [j, 1, 0, 0],\n",
    "             [0, 0, 1, j],\n",
    "             [0, 0, j, 1]]) * (1/sp.sqrt(2))\n",
    "\n",
    "print('Sinais de entrada da híbrida óptica:')\n",
    "symdisp('E_i = ', Ei)\n",
    "\n",
    "print('Função de transferência da híbrida óptica:')\n",
    "symdisp('T = ', T3 * T2 * T1)\n",
    "\n",
    "print('Modelagem:')\n",
    "symdisp('T1 * E_i = ', T1 * Ei)\n",
    "symdisp('T2 * T1 * E_i = ', T2 * T1 * Ei )\n",
    "symdisp('T3 * T2 * T1 * E_i = ', T3 * T2 * T1 * Ei )\n",
    "\n",
    "print('Sinais de saída da híbrida óptica / Sinais de entrada dos fotodiodos:')\n",
    "Eo = T3 * T2 * T1 * Ei\n",
    "symdisp('E_o = ', Eo)\n",
    "\n",
    "#BPD\n",
    "print('Saída com topologia balanceada:')\n",
    "sI = bpd(Eo[1], Eo[0])\n",
    "sQ = bpd(Eo[2], Eo[3])\n",
    "\n",
    "symdisp('BPD | s_I = i_1 - i_2 = ', sp.re(sI).simplify().expand() )\n",
    "symdisp('BPD | s_Q = i_4 - i_3 = ', sp.re(sQ).simplify().expand() )\n",
    "\n",
    "#SER\n",
    "print('Saída com topologia single-ended:')\n",
    "sI = bpd(Eo[1], 0)\n",
    "sQ = bpd(Eo[2], 0)\n",
    "\n",
    "symdisp('SER | s_I = i_1 = ', sp.re(sI).simplify().expand() )\n",
    "symdisp('SER | s_Q = i_3 = ', sp.re(sQ).simplify().expand() )"
   ]
  }
 ],
 "metadata": {
  "kernelspec": {
   "display_name": "env_tcc",
   "language": "python",
   "name": "python3"
  },
  "language_info": {
   "codemirror_mode": {
    "name": "ipython",
    "version": 3
   },
   "file_extension": ".py",
   "mimetype": "text/x-python",
   "name": "python",
   "nbconvert_exporter": "python",
   "pygments_lexer": "ipython3",
   "version": "3.9.12"
  },
  "orig_nbformat": 4,
  "vscode": {
   "interpreter": {
    "hash": "7ffabf9f58d1f4dcb1aac22f5f14ddadb6aabe605f8e8bb3ab9f50b2a570b7d0"
   }
  }
 },
 "nbformat": 4,
 "nbformat_minor": 2
}
