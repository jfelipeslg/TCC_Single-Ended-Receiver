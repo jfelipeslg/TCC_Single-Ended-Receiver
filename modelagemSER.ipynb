{
 "cells": [
  {
   "cell_type": "markdown",
   "metadata": {},
   "source": [
    "### Modelagem SER\n",
    "\n",
    "1. Sinal de saída da híbrida / Sinal de entrada do SER \n",
    "$$\n",
    "\\begin{aligned}\n",
    "E_{1}(t)    &= I(t) + jQ(t) + A \\\\\n",
    "E_{2}(t)    &= I(t) + jQ(t) + Ae^{j\\frac{\\pi}{2}}\n",
    "\\end{aligned}\n",
    "$$\n",
    "\n",
    "2. Sinal de saída do SER \n",
    "$$\n",
    "\\begin{aligned}\n",
    "R_{1}(t)    &= A^{2} + I(t)^{2} + Q(t)^{2} + 2AI(t) \\\\\n",
    "R_{2}(t)    &= A^{2} + I(t)^{2} + Q(t)^{2} + 2AQ(t)\n",
    "\\end{aligned}\n",
    "$$\n",
    "\n",
    "3. Modelo ideal (ideal square-law detectors)\n",
    "\n",
    "\\begin{aligned}\n",
    "R_{1}(t)    &= \\left((I(t) + A + jQ(t)    \\right) \\left(I(t) + A - jQ(t)\\right) \\\\\n",
    "            &= (I(t) + A)^{2} - jQ(t)(I(t) + A) + jQ(t)(I(t) + A) + Q(t)^{2}\\\\\n",
    "            &= A^{2} + I(t)^{2} + Q(t)^{2} + 2AI(t) \\\\\n",
    "\\end{aligned}\n",
    "$$\n",
    "\n",
    "\\begin{aligned}\n",
    "R_{2}(t)    &= \\left((I(t) + j(Q(t) + A)\\right) \\left((I(t) - j(Q(t) + A)\\right) \\\\\n",
    "            &= I(t)^{2} -jI(Q(t) + A) + jI(Q(t) + A) + Q^{2} + 2AQ(t) + A^{2} \\\\\n",
    "            &= A^{2} + I(t)^{2} + Q(t)^{2} + 2AQ(t)\n",
    "\\end{aligned}\n",
    "$$\n",
    "\n",
    "$\\rightarrow 2AI(t) \\ e \\ 2AQ(t)$: termos de detecção úteis\n",
    "$\\\\ \\rightarrow (I(t)^{2} + Q(t)^{2})$: signal-signal beat interference (SSBI)"
   ]
  },
  {
   "cell_type": "code",
   "execution_count": 1,
   "metadata": {},
   "outputs": [],
   "source": [
    "import sympy as sp\n",
    "from IPython.display import Math, display\n",
    "from sympy import Matrix, zeros\n",
    "\n",
    "π = sp.pi\n",
    "j = sp.I\n",
    "\n",
    "# função para print de expressões simbólicas\n",
    "def symdisp(expr, var, unit=' '):\n",
    "    '''\n",
    "    Latex style display of sympy expressions\n",
    "    \n",
    "    :param expr: expression in latex [string]\n",
    "    :param var: sympy variable, function, expression.\n",
    "    :param unit: string indicating unit of var [string]\n",
    "    '''\n",
    "    display(Math(expr+sp.latex(var)+'\\;'+unit))"
   ]
  },
  {
   "cell_type": "code",
   "execution_count": 2,
   "metadata": {},
   "outputs": [],
   "source": [
    "t = sp.symbols('t', real=True)\n",
    "II = sp.Function('I', real=True)(t)\n",
    "Q = sp.Function('Q', real=True)(t)\n",
    "A = sp.Function('A', real=True)(t)\n",
    "\n",
    "P_s, P_lo, R = sp.symbols('P_s, P_{LO}, R_d', real=True, positive=True)\n",
    "ω_c, ω_lo, ϕ_lo, Δω, Δϕ = sp.symbols('ω_c, ω_{LO}, ϕ_{LO}, Δω, Δϕ', real=True)\n",
    "ϕ = sp.Function('ϕ', real=True)(t)"
   ]
  },
  {
   "cell_type": "code",
   "execution_count": 3,
   "metadata": {},
   "outputs": [
    {
     "name": "stdout",
     "output_type": "stream",
     "text": [
      "Sinai Gerados:\n"
     ]
    },
    {
     "data": {
      "text/latex": [
       "$\\displaystyle E_s(t) =I{\\left(t \\right)} + i Q{\\left(t \\right)}\\; $"
      ],
      "text/plain": [
       "<IPython.core.display.Math object>"
      ]
     },
     "metadata": {},
     "output_type": "display_data"
    },
    {
     "data": {
      "text/latex": [
       "$\\displaystyle E_{LO}(t) =A{\\left(t \\right)}\\; $"
      ],
      "text/plain": [
       "<IPython.core.display.Math object>"
      ]
     },
     "metadata": {},
     "output_type": "display_data"
    },
    {
     "name": "stdout",
     "output_type": "stream",
     "text": [
      "Entrada da híbrida óptica:\n"
     ]
    },
    {
     "data": {
      "text/latex": [
       "$\\displaystyle E_{in} =\\left[\\begin{matrix}I{\\left(t \\right)} + i Q{\\left(t \\right)}\\\\0\\\\0\\\\A{\\left(t \\right)}\\end{matrix}\\right]\\; $"
      ],
      "text/plain": [
       "<IPython.core.display.Math object>"
      ]
     },
     "metadata": {},
     "output_type": "display_data"
    },
    {
     "name": "stdout",
     "output_type": "stream",
     "text": [
      "Saída da híbrida óptica:\n"
     ]
    },
    {
     "data": {
      "text/latex": [
       "$\\displaystyle E_{out} =\\left[\\begin{matrix}- 0.5 A{\\left(t \\right)} + 0.5 I{\\left(t \\right)} + 0.5 i Q{\\left(t \\right)}\\\\0.5 i \\left(I{\\left(t \\right)} + i Q{\\left(t \\right)}\\right) + 0.5 i A{\\left(t \\right)}\\\\0.5 i \\left(I{\\left(t \\right)} + i Q{\\left(t \\right)}\\right) - 0.5 A{\\left(t \\right)}\\\\0.5 i A{\\left(t \\right)} - 0.5 I{\\left(t \\right)} - 0.5 i Q{\\left(t \\right)}\\end{matrix}\\right]\\; $"
      ],
      "text/plain": [
       "<IPython.core.display.Math object>"
      ]
     },
     "metadata": {},
     "output_type": "display_data"
    },
    {
     "name": "stdout",
     "output_type": "stream",
     "text": [
      "Entrada do SER\n"
     ]
    },
    {
     "data": {
      "text/latex": [
       "$\\displaystyle \\begin{bmatrix} E_{1}\\\\E_{2} \\end{bmatrix} = \\left[\\begin{matrix}0.5 i \\left(I{\\left(t \\right)} + i Q{\\left(t \\right)}\\right) + 0.5 i A{\\left(t \\right)}\\\\0.5 i \\left(I{\\left(t \\right)} + i Q{\\left(t \\right)}\\right) - 0.5 A{\\left(t \\right)}\\end{matrix}\\right]\\; $"
      ],
      "text/plain": [
       "<IPython.core.display.Math object>"
      ]
     },
     "metadata": {},
     "output_type": "display_data"
    },
    {
     "name": "stdout",
     "output_type": "stream",
     "text": [
      "Saída do SER:\n"
     ]
    },
    {
     "data": {
      "text/latex": [
       "$\\displaystyle \\begin{bmatrix} R_{1}\\\\R_{2} \\end{bmatrix} = \\left( \\left[\\begin{matrix}0.25 A^{2}{\\left(t \\right)} + 0.5 A{\\left(t \\right)} I{\\left(t \\right)} + 0.25 I^{2}{\\left(t \\right)} + 0.25 Q^{2}{\\left(t \\right)}\\\\0.25 A^{2}{\\left(t \\right)} + 0.5 A{\\left(t \\right)} Q{\\left(t \\right)} + 0.25 I^{2}{\\left(t \\right)} + 0.25 Q^{2}{\\left(t \\right)}\\end{matrix}\\right], \\  \\left[\\begin{matrix}0\\\\0\\end{matrix}\\right]\\right)\\; $"
      ],
      "text/plain": [
       "<IPython.core.display.Math object>"
      ]
     },
     "metadata": {},
     "output_type": "display_data"
    }
   ],
   "source": [
    "def SEReceiver(Es, Elo):\n",
    "    \"\"\"\n",
    "    Single polarization single-ended coherent receiver (SER)\n",
    "    \"\"\"\n",
    "    \n",
    "    # Entrada da híbrida\n",
    "    Ei = Matrix([[Es],[0],[0],[Elo]])\n",
    "    \n",
    "    # Função de Transferência da Híbrida\n",
    "    T = Matrix( \n",
    "        [\n",
    "            [ 1  / 2,  1j / 2,  1j / 2, -1  / 2],\n",
    "            [ 1j / 2, -1  / 2,  1  / 2,  1j / 2],\n",
    "            [ 1j / 2,  1  / 2, -1j / 2, -1  / 2],\n",
    "            [-1  / 2,  1j / 2, -1  / 2,  1j / 2],\n",
    "        ]\n",
    "    )\n",
    "    \n",
    "    # Saída da híbrida\n",
    "    Eo = T*Ei\n",
    "    \n",
    "    # Entrada do SER\n",
    "    E1 = Eo[1]\n",
    "    E2 = Eo[2]\n",
    "    E = Matrix([E1, E2])\n",
    "    \n",
    "    # Sinal de saída do SER\n",
    "    R1 = E1*sp.conjugate(E1)\n",
    "    R2 = E2*sp.conjugate(E2)\n",
    "    R = Matrix([R1, R2])\n",
    "\n",
    "    return Ei, Eo, E, R\n",
    "\n",
    "# E_s = sp.sqrt(2) * (II + j*Q)\n",
    "# E_lo = sp.sqrt(2) * A\n",
    "\n",
    "E_s = (II + j*Q)\n",
    "E_lo = A\n",
    "\n",
    "inHybrid, outHybrid, inSer, outSer = SEReceiver(E_s, E_lo)\n",
    "\n",
    "print('Sinai Gerados:')\n",
    "symdisp('E_s(t) =', E_s)\n",
    "symdisp('E_{LO}(t) =', E_lo)\n",
    "\n",
    "print('Entrada da híbrida óptica:')\n",
    "symdisp('E_{in} =', inHybrid)\n",
    "\n",
    "print('Saída da híbrida óptica:')\n",
    "symdisp('E_{out} =', outHybrid)\n",
    "\n",
    "print('Entrada do SER')\n",
    "symdisp('\\\\begin{bmatrix} E_{1}\\\\\\E_{2} \\end{bmatrix} = ', inSer)\n",
    "\n",
    "print('Saída do SER:')\n",
    "symdisp('\\\\begin{bmatrix} R_{1}\\\\\\R_{2} \\end{bmatrix} = ', outSer.as_real_imag())"
   ]
  },
  {
   "cell_type": "code",
   "execution_count": 4,
   "metadata": {},
   "outputs": [
    {
     "name": "stdout",
     "output_type": "stream",
     "text": [
      "Sinai Gerados:\n"
     ]
    },
    {
     "data": {
      "text/latex": [
       "$\\displaystyle E_s(t) =I{\\left(t \\right)} + i Q{\\left(t \\right)}\\; $"
      ],
      "text/plain": [
       "<IPython.core.display.Math object>"
      ]
     },
     "metadata": {},
     "output_type": "display_data"
    },
    {
     "data": {
      "text/latex": [
       "$\\displaystyle E_{LO}(t) =A{\\left(t \\right)} e^{i ϕ_{LO}}\\; $"
      ],
      "text/plain": [
       "<IPython.core.display.Math object>"
      ]
     },
     "metadata": {},
     "output_type": "display_data"
    },
    {
     "name": "stdout",
     "output_type": "stream",
     "text": [
      "Entrada da híbrida óptica:\n"
     ]
    },
    {
     "data": {
      "text/latex": [
       "$\\displaystyle E_{in} =\\left[\\begin{matrix}I{\\left(t \\right)} + i Q{\\left(t \\right)}\\\\0\\\\0\\\\A{\\left(t \\right)} e^{i ϕ_{LO}}\\end{matrix}\\right]\\; $"
      ],
      "text/plain": [
       "<IPython.core.display.Math object>"
      ]
     },
     "metadata": {},
     "output_type": "display_data"
    },
    {
     "name": "stdout",
     "output_type": "stream",
     "text": [
      "Saída da híbrida óptica:\n"
     ]
    },
    {
     "data": {
      "text/latex": [
       "$\\displaystyle E_{out} =\\left[\\begin{matrix}- 0.5 A{\\left(t \\right)} e^{i ϕ_{LO}} + 0.5 I{\\left(t \\right)} + 0.5 i Q{\\left(t \\right)}\\\\0.5 i \\left(I{\\left(t \\right)} + i Q{\\left(t \\right)}\\right) + 0.5 i A{\\left(t \\right)} e^{i ϕ_{LO}}\\\\0.5 i \\left(I{\\left(t \\right)} + i Q{\\left(t \\right)}\\right) - 0.5 A{\\left(t \\right)} e^{i ϕ_{LO}}\\\\0.5 i A{\\left(t \\right)} e^{i ϕ_{LO}} - 0.5 I{\\left(t \\right)} - 0.5 i Q{\\left(t \\right)}\\end{matrix}\\right]\\; $"
      ],
      "text/plain": [
       "<IPython.core.display.Math object>"
      ]
     },
     "metadata": {},
     "output_type": "display_data"
    },
    {
     "name": "stdout",
     "output_type": "stream",
     "text": [
      "Entrada do SER\n"
     ]
    },
    {
     "data": {
      "text/latex": [
       "$\\displaystyle \\begin{bmatrix} E_{1}\\\\E_{2} \\end{bmatrix} = \\left[\\begin{matrix}0.5 i \\left(I{\\left(t \\right)} + i Q{\\left(t \\right)}\\right) + 0.5 i A{\\left(t \\right)} e^{i ϕ_{LO}}\\\\0.5 i \\left(I{\\left(t \\right)} + i Q{\\left(t \\right)}\\right) - 0.5 A{\\left(t \\right)} e^{i ϕ_{LO}}\\end{matrix}\\right]\\; $"
      ],
      "text/plain": [
       "<IPython.core.display.Math object>"
      ]
     },
     "metadata": {},
     "output_type": "display_data"
    },
    {
     "name": "stdout",
     "output_type": "stream",
     "text": [
      "Saída do SER:\n"
     ]
    },
    {
     "data": {
      "text/latex": [
       "$\\displaystyle \\begin{bmatrix} R_{1}\\\\R_{2} \\end{bmatrix} = \\left( \\left[\\begin{matrix}0.25 A^{2}{\\left(t \\right)} + 0.5 A{\\left(t \\right)} I{\\left(t \\right)} \\cos{\\left(ϕ_{LO} \\right)} + 0.5 A{\\left(t \\right)} Q{\\left(t \\right)} \\sin{\\left(ϕ_{LO} \\right)} + 0.25 I^{2}{\\left(t \\right)} + 0.25 Q^{2}{\\left(t \\right)}\\\\0.25 A^{2}{\\left(t \\right)} - 0.5 A{\\left(t \\right)} I{\\left(t \\right)} \\sin{\\left(ϕ_{LO} \\right)} + 0.5 A{\\left(t \\right)} Q{\\left(t \\right)} \\cos{\\left(ϕ_{LO} \\right)} + 0.25 I^{2}{\\left(t \\right)} + 0.25 Q^{2}{\\left(t \\right)}\\end{matrix}\\right], \\  \\left[\\begin{matrix}0\\\\0\\end{matrix}\\right]\\right)\\; $"
      ],
      "text/plain": [
       "<IPython.core.display.Math object>"
      ]
     },
     "metadata": {},
     "output_type": "display_data"
    }
   ],
   "source": [
    "# Defasagem no LO\n",
    "\n",
    "E_s = (II + j*Q)\n",
    "E_lo = A*sp.exp(j*ϕ_lo)\n",
    "\n",
    "inHybrid, outHybrid, inSer, outSer = SEReceiver(E_s, E_lo)\n",
    "\n",
    "print('Sinai Gerados:')\n",
    "symdisp('E_s(t) =', E_s)\n",
    "symdisp('E_{LO}(t) =', E_lo)\n",
    "\n",
    "print('Entrada da híbrida óptica:')\n",
    "symdisp('E_{in} =', inHybrid)\n",
    "\n",
    "print('Saída da híbrida óptica:')\n",
    "symdisp('E_{out} =', outHybrid)\n",
    "\n",
    "print('Entrada do SER')\n",
    "symdisp('\\\\begin{bmatrix} E_{1}\\\\\\E_{2} \\end{bmatrix} = ', inSer)\n",
    "\n",
    "print('Saída do SER:')\n",
    "symdisp('\\\\begin{bmatrix} R_{1}\\\\\\R_{2} \\end{bmatrix} = ', outSer.as_real_imag())"
   ]
  },
  {
   "cell_type": "code",
   "execution_count": 5,
   "metadata": {},
   "outputs": [
    {
     "name": "stdout",
     "output_type": "stream",
     "text": [
      "Sinai Gerados:\n"
     ]
    },
    {
     "data": {
      "text/latex": [
       "$\\displaystyle E_s(t) =\\sqrt{P_{s}} A{\\left(t \\right)} e^{i \\left(t ω_{c} + ϕ{\\left(t \\right)}\\right)}\\; $"
      ],
      "text/plain": [
       "<IPython.core.display.Math object>"
      ]
     },
     "metadata": {},
     "output_type": "display_data"
    },
    {
     "data": {
      "text/latex": [
       "$\\displaystyle E_{LO}(t) =\\sqrt{P_{LO}} e^{i \\left(t ω_{LO} + ϕ_{LO}\\right)}\\; $"
      ],
      "text/plain": [
       "<IPython.core.display.Math object>"
      ]
     },
     "metadata": {},
     "output_type": "display_data"
    },
    {
     "name": "stdout",
     "output_type": "stream",
     "text": [
      "Entrada da híbrida óptica:\n"
     ]
    },
    {
     "data": {
      "text/latex": [
       "$\\displaystyle E_{in} =\\left[\\begin{matrix}\\sqrt{P_{s}} A{\\left(t \\right)} e^{i \\left(t ω_{c} + ϕ{\\left(t \\right)}\\right)}\\\\0\\\\0\\\\\\sqrt{P_{LO}} e^{i \\left(t ω_{LO} + ϕ_{LO}\\right)}\\end{matrix}\\right]\\; $"
      ],
      "text/plain": [
       "<IPython.core.display.Math object>"
      ]
     },
     "metadata": {},
     "output_type": "display_data"
    },
    {
     "name": "stdout",
     "output_type": "stream",
     "text": [
      "Saída da híbrida óptica:\n"
     ]
    },
    {
     "data": {
      "text/latex": [
       "$\\displaystyle E_{out} =\\left[\\begin{matrix}0.5 \\sqrt{P_{s}} A{\\left(t \\right)} e^{i \\left(t ω_{c} + ϕ{\\left(t \\right)}\\right)} - 0.5 \\sqrt{P_{LO}} e^{i \\left(t ω_{LO} + ϕ_{LO}\\right)}\\\\0.5 i \\sqrt{P_{s}} A{\\left(t \\right)} e^{i \\left(t ω_{c} + ϕ{\\left(t \\right)}\\right)} + 0.5 i \\sqrt{P_{LO}} e^{i \\left(t ω_{LO} + ϕ_{LO}\\right)}\\\\0.5 i \\sqrt{P_{s}} A{\\left(t \\right)} e^{i \\left(t ω_{c} + ϕ{\\left(t \\right)}\\right)} - 0.5 \\sqrt{P_{LO}} e^{i \\left(t ω_{LO} + ϕ_{LO}\\right)}\\\\- 0.5 \\sqrt{P_{s}} A{\\left(t \\right)} e^{i \\left(t ω_{c} + ϕ{\\left(t \\right)}\\right)} + 0.5 i \\sqrt{P_{LO}} e^{i \\left(t ω_{LO} + ϕ_{LO}\\right)}\\end{matrix}\\right]\\; $"
      ],
      "text/plain": [
       "<IPython.core.display.Math object>"
      ]
     },
     "metadata": {},
     "output_type": "display_data"
    },
    {
     "name": "stdout",
     "output_type": "stream",
     "text": [
      "Entrada do SER\n"
     ]
    },
    {
     "data": {
      "text/latex": [
       "$\\displaystyle \\begin{bmatrix} E_{1}\\\\E_{2} \\end{bmatrix} = \\left[\\begin{matrix}0.5 i \\sqrt{P_{s}} A{\\left(t \\right)} e^{i \\left(t ω_{c} + ϕ{\\left(t \\right)}\\right)} + 0.5 i \\sqrt{P_{LO}} e^{i \\left(t ω_{LO} + ϕ_{LO}\\right)}\\\\0.5 i \\sqrt{P_{s}} A{\\left(t \\right)} e^{i \\left(t ω_{c} + ϕ{\\left(t \\right)}\\right)} - 0.5 \\sqrt{P_{LO}} e^{i \\left(t ω_{LO} + ϕ_{LO}\\right)}\\end{matrix}\\right]\\; $"
      ],
      "text/plain": [
       "<IPython.core.display.Math object>"
      ]
     },
     "metadata": {},
     "output_type": "display_data"
    },
    {
     "name": "stdout",
     "output_type": "stream",
     "text": [
      "Saída do SER:\n"
     ]
    },
    {
     "data": {
      "text/latex": [
       "$\\displaystyle \\begin{bmatrix} R_{1}\\\\R_{2} \\end{bmatrix} = \\left( \\left[\\begin{matrix}0.25 \\sqrt{P_{s}} \\sqrt{P_{LO}} A{\\left(t \\right)} \\operatorname{re}{\\left(e^{- i \\left(t ω_{c} + ϕ{\\left(t \\right)}\\right)} e^{i \\left(t ω_{LO} + ϕ_{LO}\\right)}\\right)} + 0.25 \\sqrt{P_{s}} \\sqrt{P_{LO}} A{\\left(t \\right)} \\operatorname{re}{\\left(e^{i \\left(t ω_{c} + ϕ{\\left(t \\right)}\\right)} e^{- i \\left(t ω_{LO} + ϕ_{LO}\\right)}\\right)} + 0.25 P_{s} A^{2}{\\left(t \\right)} + 0.25 P_{LO}\\\\- 0.25 \\sqrt{P_{s}} \\sqrt{P_{LO}} A{\\left(t \\right)} \\operatorname{im}{\\left(e^{- i \\left(t ω_{c} + ϕ{\\left(t \\right)}\\right)} e^{i \\left(t ω_{LO} + ϕ_{LO}\\right)}\\right)} + 0.25 \\sqrt{P_{s}} \\sqrt{P_{LO}} A{\\left(t \\right)} \\operatorname{im}{\\left(e^{i \\left(t ω_{c} + ϕ{\\left(t \\right)}\\right)} e^{- i \\left(t ω_{LO} + ϕ_{LO}\\right)}\\right)} + 0.25 P_{s} A^{2}{\\left(t \\right)} + 0.25 P_{LO}\\end{matrix}\\right], \\  \\left[\\begin{matrix}0.25 \\sqrt{P_{s}} \\sqrt{P_{LO}} A{\\left(t \\right)} \\operatorname{im}{\\left(e^{- i \\left(t ω_{c} + ϕ{\\left(t \\right)}\\right)} e^{i \\left(t ω_{LO} + ϕ_{LO}\\right)}\\right)} + 0.25 \\sqrt{P_{s}} \\sqrt{P_{LO}} A{\\left(t \\right)} \\operatorname{im}{\\left(e^{i \\left(t ω_{c} + ϕ{\\left(t \\right)}\\right)} e^{- i \\left(t ω_{LO} + ϕ_{LO}\\right)}\\right)}\\\\0.25 \\sqrt{P_{s}} \\sqrt{P_{LO}} A{\\left(t \\right)} \\operatorname{re}{\\left(e^{- i \\left(t ω_{c} + ϕ{\\left(t \\right)}\\right)} e^{i \\left(t ω_{LO} + ϕ_{LO}\\right)}\\right)} - 0.25 \\sqrt{P_{s}} \\sqrt{P_{LO}} A{\\left(t \\right)} \\operatorname{re}{\\left(e^{i \\left(t ω_{c} + ϕ{\\left(t \\right)}\\right)} e^{- i \\left(t ω_{LO} + ϕ_{LO}\\right)}\\right)}\\end{matrix}\\right]\\right)\\; $"
      ],
      "text/plain": [
       "<IPython.core.display.Math object>"
      ]
     },
     "metadata": {},
     "output_type": "display_data"
    }
   ],
   "source": [
    "# Campos Elétricos \n",
    "\n",
    "E_s = sp.sqrt(P_s)*A*sp.exp(j*(ω_c*t + ϕ))       # Campo elétrico da portadora modulada\n",
    "E_lo = sp.sqrt(P_lo)*sp.exp(j*(ω_lo*t + ϕ_lo))   # Campo elétrico do laser oscilador local\n",
    "\n",
    "inHybrid, outHybrid, inSer, outSer = SEReceiver(E_s, E_lo)\n",
    "\n",
    "print('Sinai Gerados:')\n",
    "symdisp('E_s(t) =', E_s)\n",
    "symdisp('E_{LO}(t) =', E_lo)\n",
    "\n",
    "print('Entrada da híbrida óptica:')\n",
    "symdisp('E_{in} =', inHybrid)\n",
    "\n",
    "print('Saída da híbrida óptica:')\n",
    "symdisp('E_{out} =', outHybrid)\n",
    "\n",
    "print('Entrada do SER')\n",
    "symdisp('\\\\begin{bmatrix} E_{1}\\\\\\E_{2} \\end{bmatrix} = ', inSer)\n",
    "\n",
    "print('Saída do SER:')\n",
    "symdisp('\\\\begin{bmatrix} R_{1}\\\\\\R_{2} \\end{bmatrix} = ', outSer.as_real_imag())"
   ]
  }
 ],
 "metadata": {
  "kernelspec": {
   "display_name": "Python 3.9.12 ('venv_tcc': venv)",
   "language": "python",
   "name": "python3"
  },
  "language_info": {
   "codemirror_mode": {
    "name": "ipython",
    "version": 3
   },
   "file_extension": ".py",
   "mimetype": "text/x-python",
   "name": "python",
   "nbconvert_exporter": "python",
   "pygments_lexer": "ipython3",
   "version": "3.9.12"
  },
  "orig_nbformat": 4,
  "vscode": {
   "interpreter": {
    "hash": "14e583c22f8217ff1b1c15de1af2ac0b1af6427d78b747d29f2b677912bc802b"
   }
  }
 },
 "nbformat": 4,
 "nbformat_minor": 2
}
