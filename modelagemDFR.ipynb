{
 "cells": [
  {
   "cell_type": "code",
   "execution_count": 6,
   "metadata": {},
   "outputs": [],
   "source": [
    "import sympy as sp\n",
    "from IPython.display import Math, display\n",
    "from sympy import Matrix, zeros\n",
    "\n",
    "π = sp.pi\n",
    "j = sp.I\n",
    "\n",
    "# função para print de expressões simbólicas\n",
    "def symdisp(expr, var, unit=' '):\n",
    "    '''\n",
    "    Latex style display of sympy expressions\n",
    "    \n",
    "    :param expr: expression in latex [string]\n",
    "    :param var: sympy variable, function, expression.\n",
    "    :param unit: string indicating unit of var [string]\n",
    "    '''\n",
    "    display(Math(expr+sp.latex(var)+'\\;'+unit))"
   ]
  },
  {
   "cell_type": "code",
   "execution_count": 7,
   "metadata": {},
   "outputs": [],
   "source": [
    "t = sp.symbols('t', real=True)\n",
    "A = sp.Function('A', real=True)(t)\n",
    "R1 = sp.Function('R_{1}', real=True)(t)\n",
    "R2 = sp.Function('R_{2}', real=True)(t)"
   ]
  },
  {
   "cell_type": "code",
   "execution_count": 8,
   "metadata": {},
   "outputs": [
    {
     "data": {
      "text/latex": [
       "$\\displaystyle \\Delta = - \\left(- 2 A^{2}{\\left(t \\right)} + R_{1}{\\left(t \\right)} + R_{2}{\\left(t \\right)}\\right)^{2} + 4 R_{1}{\\left(t \\right)} R_{2}{\\left(t \\right)}\\; $"
      ],
      "text/plain": [
       "<IPython.core.display.Math object>"
      ]
     },
     "metadata": {},
     "output_type": "display_data"
    },
    {
     "data": {
      "text/latex": [
       "$\\displaystyle I(t) = \\frac{\\sqrt{- \\left(- 2 A^{2}{\\left(t \\right)} + R_{1}{\\left(t \\right)} + R_{2}{\\left(t \\right)}\\right)^{2} + 4 R_{1}{\\left(t \\right)} R_{2}{\\left(t \\right)}}}{4 A{\\left(t \\right)}} + \\frac{R_{1}{\\left(t \\right)} - R_{2}{\\left(t \\right)}}{4 A{\\left(t \\right)}} - \\frac{A{\\left(t \\right)}}{2}\\; $"
      ],
      "text/plain": [
       "<IPython.core.display.Math object>"
      ]
     },
     "metadata": {},
     "output_type": "display_data"
    },
    {
     "data": {
      "text/latex": [
       "$\\displaystyle Q(t) = \\frac{\\sqrt{- \\left(- 2 A^{2}{\\left(t \\right)} + R_{1}{\\left(t \\right)} + R_{2}{\\left(t \\right)}\\right)^{2} + 4 R_{1}{\\left(t \\right)} R_{2}{\\left(t \\right)}}}{4 A{\\left(t \\right)}} - \\frac{R_{1}{\\left(t \\right)} - R_{2}{\\left(t \\right)}}{4 A{\\left(t \\right)}} - \\frac{A{\\left(t \\right)}}{2}\\; $"
      ],
      "text/plain": [
       "<IPython.core.display.Math object>"
      ]
     },
     "metadata": {},
     "output_type": "display_data"
    },
    {
     "data": {
      "text/latex": [
       "$\\displaystyle \\Delta = (I(t) + Q(t) + A)(4A^{2}) =- \\left(- 2 A^{2}{\\left(t \\right)} + R_{1}{\\left(t \\right)} + R_{2}{\\left(t \\right)}\\right)^{2} + 4 R_{1}{\\left(t \\right)} R_{2}{\\left(t \\right)}\\; $"
      ],
      "text/plain": [
       "<IPython.core.display.Math object>"
      ]
     },
     "metadata": {},
     "output_type": "display_data"
    }
   ],
   "source": [
    "# Modelo 1\n",
    "\n",
    "delta = 4*R1*R2 - (R1 + R2 - 2*A**2)**2\n",
    "\n",
    "sigI = - A/2 + (1/A/4) * (R1 - R2) + (1/A/4) * sp.sqrt(delta)\n",
    "sigQ = - A/2 - (1/A/4) * (R1 - R2) + (1/A/4) * sp.sqrt(delta)\n",
    "\n",
    "verificar = (sigI + sigQ + A)**2 * (4*A**2)\n",
    "\n",
    "symdisp('\\Delta = ', delta)\n",
    "symdisp('I(t) = ', sigI)\n",
    "symdisp('Q(t) = ', sigQ)\n",
    "symdisp('\\Delta = (I(t) + Q(t) + A)(4A^{2}) =', verificar)\n",
    "\n",
    "aux1 = sigI"
   ]
  },
  {
   "cell_type": "code",
   "execution_count": 9,
   "metadata": {},
   "outputs": [
    {
     "data": {
      "text/latex": [
       "$\\displaystyle \\Delta = - \\frac{\\left(R_{1}{\\left(t \\right)} - R_{2}{\\left(t \\right)}\\right)^{2}}{4 A^{2}{\\left(t \\right)}} - A^{2}{\\left(t \\right)} + R_{1}{\\left(t \\right)} + R_{2}{\\left(t \\right)}\\; $"
      ],
      "text/plain": [
       "<IPython.core.display.Math object>"
      ]
     },
     "metadata": {},
     "output_type": "display_data"
    },
    {
     "data": {
      "text/latex": [
       "$\\displaystyle I(t) = \\frac{R_{1}{\\left(t \\right)} - R_{2}{\\left(t \\right)}}{4 A{\\left(t \\right)}} + \\frac{\\sqrt{- \\frac{\\left(R_{1}{\\left(t \\right)} - R_{2}{\\left(t \\right)}\\right)^{2}}{4 A^{2}{\\left(t \\right)}} - A^{2}{\\left(t \\right)} + R_{1}{\\left(t \\right)} + R_{2}{\\left(t \\right)}}}{2} - \\frac{A{\\left(t \\right)}}{2}\\; $"
      ],
      "text/plain": [
       "<IPython.core.display.Math object>"
      ]
     },
     "metadata": {},
     "output_type": "display_data"
    },
    {
     "data": {
      "text/latex": [
       "$\\displaystyle Q(t) = \\frac{- R_{1}{\\left(t \\right)} + R_{2}{\\left(t \\right)}}{4 A{\\left(t \\right)}} + \\frac{\\sqrt{- \\frac{\\left(R_{1}{\\left(t \\right)} - R_{2}{\\left(t \\right)}\\right)^{2}}{4 A^{2}{\\left(t \\right)}} - A^{2}{\\left(t \\right)} + R_{1}{\\left(t \\right)} + R_{2}{\\left(t \\right)}}}{2} - \\frac{A{\\left(t \\right)}}{2}\\; $"
      ],
      "text/plain": [
       "<IPython.core.display.Math object>"
      ]
     },
     "metadata": {},
     "output_type": "display_data"
    },
    {
     "data": {
      "text/latex": [
       "$\\displaystyle \\Delta = (I(t) + Q(t) + A)^{2} =- \\frac{\\left(R_{1}{\\left(t \\right)} - R_{2}{\\left(t \\right)}\\right)^{2}}{4 A^{2}{\\left(t \\right)}} - A^{2}{\\left(t \\right)} + R_{1}{\\left(t \\right)} + R_{2}{\\left(t \\right)}\\; $"
      ],
      "text/plain": [
       "<IPython.core.display.Math object>"
      ]
     },
     "metadata": {},
     "output_type": "display_data"
    }
   ],
   "source": [
    "# Modelo 2\n",
    "\n",
    "delta = R1 + R2 - A**2 - (R1 - R2)**2 / (4*A**2)\n",
    "\n",
    "sigI = - A/2 + (R1 - R2) / (4*A) + sp.sqrt(delta) / (2)\n",
    "sigQ = - A/2 + (R2 - R1) / (4*A) + sp.sqrt(delta) / (2)\n",
    "\n",
    "verificar = (sigI + sigQ + A)**2\n",
    "\n",
    "symdisp('\\Delta = ', delta)\n",
    "symdisp('I(t) = ', sigI)\n",
    "symdisp('Q(t) = ', sigQ)\n",
    "symdisp('\\Delta = (I(t) + Q(t) + A)^{2} =', sp.simplify(verificar))\n",
    "\n",
    "aux2 = sigI"
   ]
  }
 ],
 "metadata": {
  "kernelspec": {
   "display_name": "Python 3.9.12 ('venv_tcc': venv)",
   "language": "python",
   "name": "python3"
  },
  "language_info": {
   "codemirror_mode": {
    "name": "ipython",
    "version": 3
   },
   "file_extension": ".py",
   "mimetype": "text/x-python",
   "name": "python",
   "nbconvert_exporter": "python",
   "pygments_lexer": "ipython3",
   "version": "3.9.12"
  },
  "orig_nbformat": 4,
  "vscode": {
   "interpreter": {
    "hash": "14e583c22f8217ff1b1c15de1af2ac0b1af6427d78b747d29f2b677912bc802b"
   }
  }
 },
 "nbformat": 4,
 "nbformat_minor": 2
}
