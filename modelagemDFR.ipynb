{
 "cells": [
  {
   "cell_type": "code",
   "execution_count": 1,
   "metadata": {},
   "outputs": [],
   "source": [
    "import sympy as sp\n",
    "from IPython.display import Math, display\n",
    "\n",
    "π = sp.pi\n",
    "j = sp.I\n",
    "\n",
    "# função para print de expressões simbólicas\n",
    "def symdisp(expr, var, unit=' '):\n",
    "    '''\n",
    "    Latex style display of sympy expressions\n",
    "    \n",
    "    :param expr: expression in latex [string]\n",
    "    :param var: sympy variable, function, expression.\n",
    "    :param unit: string indicating unit of var [string]\n",
    "    '''\n",
    "    display(Math(expr+sp.latex(var)+'\\;'+unit))"
   ]
  },
  {
   "cell_type": "code",
   "execution_count": 2,
   "metadata": {},
   "outputs": [],
   "source": [
    "t = sp.symbols('t', real=True)\n",
    "A = sp.Function('A', real=True)(t)\n",
    "R1 = sp.Function('R_{1}', real=True)(t)\n",
    "R2 = sp.Function('R_{2}', real=True)(t)"
   ]
  },
  {
   "cell_type": "code",
   "execution_count": 3,
   "metadata": {},
   "outputs": [
    {
     "data": {
      "text/latex": [
       "$\\displaystyle \\Delta = - \\left(- 2 A^{2}{\\left(t \\right)} + R_{1}{\\left(t \\right)} + R_{2}{\\left(t \\right)}\\right)^{2} + 4 R_{1}{\\left(t \\right)} R_{2}{\\left(t \\right)}\\; $"
      ],
      "text/plain": [
       "<IPython.core.display.Math object>"
      ]
     },
     "metadata": {},
     "output_type": "display_data"
    },
    {
     "data": {
      "text/latex": [
       "$\\displaystyle I(t) = \\frac{\\sqrt{- \\left(- 2 A^{2}{\\left(t \\right)} + R_{1}{\\left(t \\right)} + R_{2}{\\left(t \\right)}\\right)^{2} + 4 R_{1}{\\left(t \\right)} R_{2}{\\left(t \\right)}}}{4 A{\\left(t \\right)}} + \\frac{R_{1}{\\left(t \\right)} - R_{2}{\\left(t \\right)}}{4 A{\\left(t \\right)}} - \\frac{A{\\left(t \\right)}}{2}\\; $"
      ],
      "text/plain": [
       "<IPython.core.display.Math object>"
      ]
     },
     "metadata": {},
     "output_type": "display_data"
    },
    {
     "data": {
      "text/latex": [
       "$\\displaystyle Q(t) = \\frac{\\sqrt{- \\left(- 2 A^{2}{\\left(t \\right)} + R_{1}{\\left(t \\right)} + R_{2}{\\left(t \\right)}\\right)^{2} + 4 R_{1}{\\left(t \\right)} R_{2}{\\left(t \\right)}}}{4 A{\\left(t \\right)}} - \\frac{R_{1}{\\left(t \\right)} - R_{2}{\\left(t \\right)}}{4 A{\\left(t \\right)}} - \\frac{A{\\left(t \\right)}}{2}\\; $"
      ],
      "text/plain": [
       "<IPython.core.display.Math object>"
      ]
     },
     "metadata": {},
     "output_type": "display_data"
    },
    {
     "data": {
      "text/latex": [
       "$\\displaystyle \\Delta = (I(t) + Q(t) + A)(4A^{2}) =- \\left(- 2 A^{2}{\\left(t \\right)} + R_{1}{\\left(t \\right)} + R_{2}{\\left(t \\right)}\\right)^{2} + 4 R_{1}{\\left(t \\right)} R_{2}{\\left(t \\right)}\\; $"
      ],
      "text/plain": [
       "<IPython.core.display.Math object>"
      ]
     },
     "metadata": {},
     "output_type": "display_data"
    }
   ],
   "source": [
    "# Modelo 1\n",
    "\n",
    "delta = 4*R1*R2 - (R1 + R2 - 2*A**2)**2\n",
    "\n",
    "sigI = - A/2 + (1/A/4) * (R1 - R2) + (1/A/4) * sp.sqrt(delta)\n",
    "sigQ = - A/2 - (1/A/4) * (R1 - R2) + (1/A/4) * sp.sqrt(delta)\n",
    "\n",
    "verificar = (sigI + sigQ + A)**2 * (4*A**2)\n",
    "\n",
    "symdisp('\\Delta = ', delta)\n",
    "symdisp('I(t) = ', sigI)\n",
    "symdisp('Q(t) = ', sigQ)\n",
    "symdisp('\\Delta = (I(t) + Q(t) + A)(4A^{2}) =', verificar)\n",
    "\n",
    "aux1 = sigI"
   ]
  },
  {
   "cell_type": "code",
   "execution_count": 4,
   "metadata": {},
   "outputs": [
    {
     "data": {
      "text/latex": [
       "$\\displaystyle \\Delta = - \\frac{\\left(R_{1}{\\left(t \\right)} - R_{2}{\\left(t \\right)}\\right)^{2}}{4 A^{2}{\\left(t \\right)}} - A^{2}{\\left(t \\right)} + R_{1}{\\left(t \\right)} + R_{2}{\\left(t \\right)}\\; $"
      ],
      "text/plain": [
       "<IPython.core.display.Math object>"
      ]
     },
     "metadata": {},
     "output_type": "display_data"
    },
    {
     "data": {
      "text/latex": [
       "$\\displaystyle I(t) = \\frac{R_{1}{\\left(t \\right)} - R_{2}{\\left(t \\right)}}{4 A{\\left(t \\right)}} + \\frac{\\sqrt{- \\frac{\\left(R_{1}{\\left(t \\right)} - R_{2}{\\left(t \\right)}\\right)^{2}}{4 A^{2}{\\left(t \\right)}} - A^{2}{\\left(t \\right)} + R_{1}{\\left(t \\right)} + R_{2}{\\left(t \\right)}}}{2} - \\frac{A{\\left(t \\right)}}{2}\\; $"
      ],
      "text/plain": [
       "<IPython.core.display.Math object>"
      ]
     },
     "metadata": {},
     "output_type": "display_data"
    },
    {
     "data": {
      "text/latex": [
       "$\\displaystyle Q(t) = \\frac{- R_{1}{\\left(t \\right)} + R_{2}{\\left(t \\right)}}{4 A{\\left(t \\right)}} + \\frac{\\sqrt{- \\frac{\\left(R_{1}{\\left(t \\right)} - R_{2}{\\left(t \\right)}\\right)^{2}}{4 A^{2}{\\left(t \\right)}} - A^{2}{\\left(t \\right)} + R_{1}{\\left(t \\right)} + R_{2}{\\left(t \\right)}}}{2} - \\frac{A{\\left(t \\right)}}{2}\\; $"
      ],
      "text/plain": [
       "<IPython.core.display.Math object>"
      ]
     },
     "metadata": {},
     "output_type": "display_data"
    },
    {
     "data": {
      "text/latex": [
       "$\\displaystyle \\Delta = (I(t) + Q(t) + A)^{2} =- \\frac{\\left(R_{1}{\\left(t \\right)} - R_{2}{\\left(t \\right)}\\right)^{2}}{4 A^{2}{\\left(t \\right)}} - A^{2}{\\left(t \\right)} + R_{1}{\\left(t \\right)} + R_{2}{\\left(t \\right)}\\; $"
      ],
      "text/plain": [
       "<IPython.core.display.Math object>"
      ]
     },
     "metadata": {},
     "output_type": "display_data"
    }
   ],
   "source": [
    "# Modelo 2\n",
    "\n",
    "delta = R1 + R2 - A**2 - (R1 - R2)**2 / (4*A**2)\n",
    "\n",
    "sigI = - A/2 + (R1 - R2) / (4*A) + sp.sqrt(delta) / (2)\n",
    "sigQ = - A/2 + (R2 - R1) / (4*A) + sp.sqrt(delta) / (2)\n",
    "\n",
    "verificar = (sigI + sigQ + A)**2\n",
    "\n",
    "symdisp('\\Delta = ', delta)\n",
    "symdisp('I(t) = ', sigI)\n",
    "symdisp('Q(t) = ', sigQ)\n",
    "symdisp('\\Delta = (I(t) + Q(t) + A)^{2} =', sp.simplify(verificar))\n",
    "\n",
    "aux2 = sigI"
   ]
  },
  {
   "cell_type": "code",
   "execution_count": 5,
   "metadata": {},
   "outputs": [],
   "source": [
    "import numpy as np\n",
    "\n",
    "def DFR(R1, R2, sigLO):\n",
    "    \"\"\"\n",
    "    Direct Field Reconstruction (DFR)\n",
    "\n",
    "    :param R1 and R2: ouput of SER [nparray]\n",
    "    :param A: local oscillator (LO) [nparray]\n",
    "    \n",
    "    :return sigOut: the inphase and quadrature components of the optical field [nparray]\n",
    "    \"\"\"\n",
    "    A = sigLO  # Oscilador local\n",
    "    \n",
    "    delta = 4*R1*R2 - (R1 + R2 - 2*A**2)**2    # Delta da função de segundo grau\n",
    "    \n",
    "    sigI = - A/2 + 1/(4*A) * (R1 - R2) + 1/(4*A) * np.sqrt(delta) # Cálculo da componente em fase (raiz da função)\n",
    "    sigQ = - A/2 - 1/(4*A) * (R1 - R2) + 1/(4*A) * np.sqrt(delta) # Cálculo da componente em quadratura (raiz da função)\n",
    "      \n",
    "    sigOut = sigI + 1j*sigQ    # Sinal recuperado\n",
    "    \n",
    "    return sigOut"
   ]
  }
 ],
 "metadata": {
  "kernelspec": {
   "display_name": "Python 3.9.12 ('venv_tcc': venv)",
   "language": "python",
   "name": "python3"
  },
  "language_info": {
   "codemirror_mode": {
    "name": "ipython",
    "version": 3
   },
   "file_extension": ".py",
   "mimetype": "text/x-python",
   "name": "python",
   "nbconvert_exporter": "python",
   "pygments_lexer": "ipython3",
   "version": "3.9.12"
  },
  "orig_nbformat": 4,
  "vscode": {
   "interpreter": {
    "hash": "19af27fb2955e5b72b10aecda4e2a77477d869c098fabb3dca464683b4399f89"
   }
  }
 },
 "nbformat": 4,
 "nbformat_minor": 2
}
